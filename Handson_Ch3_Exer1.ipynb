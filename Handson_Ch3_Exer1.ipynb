{
 "cells": [
  {
   "cell_type": "markdown",
   "metadata": {},
   "source": [
    "This is the first exercise of Ch. 3 in the book \"Hands-On Machine Learning with SciKit-Learn and Tensorflow\" by Aurelion Geron.  The task is to build a classifier for the MNIST dataset that achieves 97% accuracy on the test set.  The suggestion is to use a KNeighborsClassifier and vary the hyperparameters.  It is also suggested to use Gridsearch on the 'weights' and 'n_neighbors' hyperparameters."
   ]
  },
  {
   "cell_type": "code",
   "execution_count": 3,
   "metadata": {},
   "outputs": [],
   "source": [
    "#First fetch the MNIST data set and take a look\n",
    "#Note: The following is a work-around provided by Aurelion Geron that retrieves the MNIST data set from AMPlab\n",
    "#at UC Berkeley.  The data set is no longer available from the PASCAL2 project.\n",
    "from six.moves import urllib\n",
    "from sklearn.datasets import fetch_mldata\n",
    "try:\n",
    "    mnist = fetch_mldata('MNIST original')\n",
    "except urllib.error.HTTPError as ex:\n",
    "    print(\"Could not download MNIST data from mldata.org, trying alternative....\")\n",
    "    \n",
    "    # Alternative method to load MNIST, if mldata.org is down\n",
    "    from scipy.io import loadmat\n",
    "    mnist_alternative_url = \"https://github.com/amplab/datascience-sp14/raw/master/lab7/mldata/mnist-original.mat\"\n",
    "    mnist_path = \"./mnist-original.mat\"\n",
    "    response = urllib.request.urlopen(mnist_alternative_url)\n",
    "    with open(mnist_path, \"wb\") as f:\n",
    "        content = response.read()\n",
    "        f.write(content)\n",
    "    mnist_raw = loadmat(mnist_path)\n",
    "    mnist = {\n",
    "        \"data\": mnist_raw[\"data\"].T,\n",
    "        \"target\": mnist_raw[\"label\"][0],\n",
    "        \"COL_NAMES\": [\"label\", \"data\"],\n",
    "        \"DESCR\": \"mldata.org dataset: mnist-original\",\n",
    "    }\n",
    "    print(\"Success!\")\n"
   ]
  },
  {
   "cell_type": "code",
   "execution_count": 4,
   "metadata": {},
   "outputs": [
    {
     "data": {
      "text/plain": [
       "{'COL_NAMES': ['label', 'data'],\n",
       " 'DESCR': 'mldata.org dataset: mnist-original',\n",
       " 'data': array([[0, 0, 0, ..., 0, 0, 0],\n",
       "        [0, 0, 0, ..., 0, 0, 0],\n",
       "        [0, 0, 0, ..., 0, 0, 0],\n",
       "        ...,\n",
       "        [0, 0, 0, ..., 0, 0, 0],\n",
       "        [0, 0, 0, ..., 0, 0, 0],\n",
       "        [0, 0, 0, ..., 0, 0, 0]], dtype=uint8),\n",
       " 'target': array([0., 0., 0., ..., 9., 9., 9.])}"
      ]
     },
     "execution_count": 4,
     "metadata": {},
     "output_type": "execute_result"
    }
   ],
   "source": [
    "mnist"
   ]
  },
  {
   "cell_type": "code",
   "execution_count": 13,
   "metadata": {},
   "outputs": [
    {
     "name": "stdout",
     "output_type": "stream",
     "text": [
      "<class 'sklearn.utils.Bunch'>\n"
     ]
    }
   ],
   "source": [
    "print(type(mnist))"
   ]
  },
  {
   "cell_type": "code",
   "execution_count": 14,
   "metadata": {},
   "outputs": [
    {
     "data": {
      "text/plain": [
       "(70000, 784)"
      ]
     },
     "execution_count": 14,
     "metadata": {},
     "output_type": "execute_result"
    }
   ],
   "source": [
    "#Split MNIST data into a data array and a target (label) array:\n",
    "X, y = mnist[\"data\"], mnist[\"target\"]\n",
    "X.shape"
   ]
  },
  {
   "cell_type": "code",
   "execution_count": 15,
   "metadata": {},
   "outputs": [
    {
     "data": {
      "text/plain": [
       "(70000,)"
      ]
     },
     "execution_count": 15,
     "metadata": {},
     "output_type": "execute_result"
    }
   ],
   "source": [
    "y.shape"
   ]
  },
  {
   "cell_type": "code",
   "execution_count": 16,
   "metadata": {},
   "outputs": [
    {
     "data": {
      "image/png": "[encoded data removed]",
      "text/plain": [
       "<matplotlib.figure.Figure at 0x7f7174b822e8>"
      ]
     },
     "metadata": {},
     "output_type": "display_data"
    }
   ],
   "source": [
    "#So the data array (X) has 70,000 images (rows) with 784 features (columns).  Each image has 28x28 pixels, and each\n",
    "#feature represents a pixel's intensity from 0 (white) to 255 (black).  An example of one digit can be previewed by\n",
    "#using matplotlib:\n",
    "%matplotlib inline\n",
    "import matplotlib\n",
    "import matplotlib.pyplot as plt\n",
    "\n",
    "digit = X[12500]                              #pick a random image from the array of 70,000\n",
    "digit_reshape = digit.reshape(28, 28)         #rework the pixels into a 28x28 array\n",
    "\n",
    "plt.imshow(digit_reshape, cmap=matplotlib.cm.binary, interpolation='nearest')\n",
    "plt.show()"
   ]
  },
  {
   "cell_type": "code",
   "execution_count": 17,
   "metadata": {},
   "outputs": [
    {
     "data": {
      "text/plain": [
       "1.0"
      ]
     },
     "execution_count": 17,
     "metadata": {},
     "output_type": "execute_result"
    }
   ],
   "source": [
    "#Well, this looks like a number 1 and we can see the pixelated structure.  Let's check what it really is according\n",
    "#to the target set:\n",
    "y[12500]"
   ]
  },
  {
   "cell_type": "code",
   "execution_count": 18,
   "metadata": {},
   "outputs": [],
   "source": [
    "#Yay!  We were correct!"
   ]
  },
  {
   "cell_type": "code",
   "execution_count": 19,
   "metadata": {},
   "outputs": [],
   "source": [
    "#Alright, so the task is to create a kick-butt classifier that uses the k-nearest-neighbours (kNN) algorithm.\n",
    "#We need a training and testing data set: use the first 60000 images for training and the last 10000 for testing.\n",
    "X_train, X_test, y_train, y_test = X[:60000], X[60000:], y[:60000], y[60000:]"
   ]
  },
  {
   "cell_type": "code",
   "execution_count": 20,
   "metadata": {},
   "outputs": [
    {
     "data": {
      "text/plain": [
       "array([[0, 0, 0, ..., 0, 0, 0],\n",
       "       [0, 0, 0, ..., 0, 0, 0],\n",
       "       [0, 0, 0, ..., 0, 0, 0],\n",
       "       ...,\n",
       "       [0, 0, 0, ..., 0, 0, 0],\n",
       "       [0, 0, 0, ..., 0, 0, 0],\n",
       "       [0, 0, 0, ..., 0, 0, 0]], dtype=uint8)"
      ]
     },
     "execution_count": 20,
     "metadata": {},
     "output_type": "execute_result"
    }
   ],
   "source": [
    "X_train"
   ]
  },
  {
   "cell_type": "code",
   "execution_count": 21,
   "metadata": {},
   "outputs": [
    {
     "data": {
      "text/plain": [
       "numpy.ndarray"
      ]
     },
     "execution_count": 21,
     "metadata": {},
     "output_type": "execute_result"
    }
   ],
   "source": [
    "type(X_train)"
   ]
  },
  {
   "cell_type": "code",
   "execution_count": 22,
   "metadata": {},
   "outputs": [
    {
     "data": {
      "text/plain": [
       "array([0., 0., 0., ..., 9., 9., 9.])"
      ]
     },
     "execution_count": 22,
     "metadata": {},
     "output_type": "execute_result"
    }
   ],
   "source": [
    "y_test"
   ]
  },
  {
   "cell_type": "code",
   "execution_count": 23,
   "metadata": {},
   "outputs": [
    {
     "data": {
      "text/plain": [
       "numpy.ndarray"
      ]
     },
     "execution_count": 23,
     "metadata": {},
     "output_type": "execute_result"
    }
   ],
   "source": [
    "type(y_test)"
   ]
  },
  {
   "cell_type": "code",
   "execution_count": 25,
   "metadata": {},
   "outputs": [
    {
     "data": {
      "text/plain": [
       "array([[False, False, False, ..., False, False, False],\n",
       "       [False, False, False, ..., False, False, False],\n",
       "       [False, False, False, ..., False, False, False],\n",
       "       ...,\n",
       "       [False, False, False, ..., False, False, False],\n",
       "       [False, False, False, ..., False, False, False],\n",
       "       [False, False, False, ..., False, False, False]])"
      ]
     },
     "execution_count": 25,
     "metadata": {},
     "output_type": "execute_result"
    }
   ],
   "source": [
    "#Let's look for NaN values in the array\n",
    "import numpy as np\n",
    "np.isnan(X_train)"
   ]
  },
  {
   "cell_type": "code",
   "execution_count": 26,
   "metadata": {},
   "outputs": [
    {
     "data": {
      "text/plain": [
       "array([False, False, False, ..., False, False, False])"
      ]
     },
     "execution_count": 26,
     "metadata": {},
     "output_type": "execute_result"
    }
   ],
   "source": [
    "np.isnan(y_train)"
   ]
  },
  {
   "cell_type": "code",
   "execution_count": 28,
   "metadata": {},
   "outputs": [],
   "source": [
    "#The textbook suggests shuffling the training set so the learning algorithms won't get used to the data.\n",
    "#The .permutation method randomly shuffles the 60000 images.\n",
    "\n",
    "shuffle_index = np.random.permutation(60000)\n",
    "X_train, y_train = X_train[shuffle_index], y_train[shuffle_index]"
   ]
  },
  {
   "cell_type": "code",
   "execution_count": 29,
   "metadata": {},
   "outputs": [
    {
     "data": {
      "text/plain": [
       "KNeighborsClassifier(algorithm='auto', leaf_size=30, metric='minkowski',\n",
       "           metric_params=None, n_jobs=1, n_neighbors=5, p=2,\n",
       "           weights='uniform')"
      ]
     },
     "execution_count": 29,
     "metadata": {},
     "output_type": "execute_result"
    }
   ],
   "source": [
    "#Ok.  So there isn't a lot of preprocessing to do on this data set, so let's go ahead and train the \n",
    "#KNeighborsClassifier on the data.\n",
    "\n",
    "from sklearn.neighbors import KNeighborsClassifier\n",
    "\n",
    "knn_clf = KNeighborsClassifier()                #create an instance of the classifier\n",
    "knn_clf.fit(X_train, y_train)                   #fit the hyperparameters to the data"
   ]
  },
  {
   "cell_type": "code",
   "execution_count": 30,
   "metadata": {},
   "outputs": [],
   "source": [
    "#Now let's predict images using the fitted data.\n",
    "knn_predict = knn_clf.predict(X_test)"
   ]
  },
  {
   "cell_type": "code",
   "execution_count": 31,
   "metadata": {},
   "outputs": [
    {
     "data": {
      "text/plain": [
       "0.9688"
      ]
     },
     "execution_count": 31,
     "metadata": {},
     "output_type": "execute_result"
    }
   ],
   "source": [
    "#How did we do?\n",
    "from sklearn.metrics import accuracy_score\n",
    "accuracy_score(y_test, knn_predict)"
   ]
  },
  {
   "cell_type": "code",
   "execution_count": 32,
   "metadata": {},
   "outputs": [
    {
     "name": "stdout",
     "output_type": "stream",
     "text": [
      "Fitting 5 folds for each of 6 candidates, totalling 30 fits\n",
      "[CV] n_neighbors=1, weights=uniform ..................................\n",
      "[CV] n_neighbors=1, weights=uniform ..................................\n",
      "[CV] n_neighbors=1, weights=uniform ..................................\n",
      "[CV] n_neighbors=1, weights=uniform ..................................\n",
      "[CV] n_neighbors=1, weights=uniform ..................................\n",
      "[CV] n_neighbors=1, weights=distance .................................\n",
      "[CV] n_neighbors=1, weights=distance .................................\n",
      "[CV] n_neighbors=1, weights=distance .................................\n",
      "[CV]  n_neighbors=1, weights=distance, score=0.9721666666666666, total=34.3min\n",
      "[CV] n_neighbors=1, weights=distance .................................\n",
      "[CV]  n_neighbors=1, weights=uniform, score=0.9721666666666666, total=34.3min\n",
      "[CV] n_neighbors=1, weights=distance .................................\n",
      "[CV]  n_neighbors=1, weights=uniform, score=0.9712547908681887, total=34.3min\n",
      "[CV] n_neighbors=3, weights=uniform ..................................\n",
      "[CV]  n_neighbors=1, weights=uniform, score=0.9716595815620572, total=34.4min\n",
      "[CV] n_neighbors=3, weights=uniform ..................................\n",
      "[CV]  n_neighbors=1, weights=distance, score=0.9712547908681887, total=34.4min\n",
      "[CV] n_neighbors=3, weights=uniform ..................................\n",
      "[CV]  n_neighbors=1, weights=distance, score=0.9715118700541441, total=34.5min\n",
      "[CV] n_neighbors=3, weights=uniform ..................................\n",
      "[CV]  n_neighbors=1, weights=uniform, score=0.9715118700541441, total=34.5min\n",
      "[CV] n_neighbors=3, weights=uniform ..................................\n",
      "[CV]  n_neighbors=1, weights=uniform, score=0.9706568856285428, total=34.4min\n",
      "[CV] n_neighbors=3, weights=distance .................................\n",
      "[CV]  n_neighbors=1, weights=distance, score=0.9716595815620572, total=34.7min\n",
      "[CV] n_neighbors=3, weights=distance .................................\n",
      "[CV]  n_neighbors=1, weights=distance, score=0.9706568856285428, total=34.7min\n",
      "[CV] n_neighbors=3, weights=distance .................................\n",
      "[CV] ...... n_neighbors=3, weights=uniform, score=0.973, total=34.8min\n",
      "[CV] n_neighbors=3, weights=distance .................................\n",
      "[CV]  n_neighbors=3, weights=uniform, score=0.9708381936343943, total=34.8min\n",
      "[CV] n_neighbors=3, weights=distance .................................\n",
      "[CV]  n_neighbors=3, weights=uniform, score=0.9700124947938359, total=34.9min\n",
      "[CV] n_neighbors=5, weights=uniform ..................................\n",
      "[CV]  n_neighbors=3, weights=uniform, score=0.9716572190730244, total=34.8min\n",
      "[CV] n_neighbors=5, weights=uniform ..................................\n",
      "[CV]  n_neighbors=3, weights=uniform, score=0.9709927481870467, total=34.8min\n",
      "[CV] n_neighbors=5, weights=uniform ..................................\n",
      "[CV]  n_neighbors=3, weights=distance, score=0.9718450645564348, total=34.9min\n",
      "[CV] n_neighbors=5, weights=uniform ..................................\n",
      "[CV]  n_neighbors=3, weights=distance, score=0.9718380269955007, total=36.1min\n",
      "[CV] n_neighbors=5, weights=uniform ..................................\n",
      "[CV]  n_neighbors=3, weights=distance, score=0.9743333333333334, total=36.2min\n",
      "[CV] n_neighbors=5, weights=distance .................................\n",
      "[CV]  n_neighbors=3, weights=distance, score=0.9726575525175059, total=35.5min\n",
      "[CV] n_neighbors=5, weights=distance .................................\n",
      "[CV]  n_neighbors=3, weights=distance, score=0.9720763524214386, total=35.6min\n",
      "[CV] n_neighbors=5, weights=distance .................................\n",
      "[CV]  n_neighbors=5, weights=uniform, score=0.9692551241459757, total=35.4min\n",
      "[CV] n_neighbors=5, weights=distance .................................\n",
      "[CV]  n_neighbors=5, weights=uniform, score=0.9691795085381091, total=35.7min\n",
      "[CV] n_neighbors=5, weights=distance .................................\n",
      "[CV] .... n_neighbors=5, weights=uniform, score=0.97225, total=35.6min\n",
      "[CV]  n_neighbors=5, weights=uniform, score=0.9682420605151287, total=35.7min\n",
      "[CV]  n_neighbors=5, weights=uniform, score=0.9706568856285428, total=35.3min\n",
      "[CV]  n_neighbors=5, weights=distance, score=0.9712619741774261, total=35.2min\n"
     ]
    },
    {
     "name": "stderr",
     "output_type": "stream",
     "text": [
      "[Parallel(n_jobs=-1)]: Done  26 out of  30 | elapsed: 559.9min remaining: 86.1min\n"
     ]
    },
    {
     "name": "stdout",
     "output_type": "stream",
     "text": [
      "[CV]  n_neighbors=5, weights=distance, score=0.9698257897807785, total=29.3min\n",
      "[CV]  n_neighbors=5, weights=distance, score=0.9729909969989997, total=29.2min\n",
      "[CV] ..... n_neighbors=5, weights=distance, score=0.974, total=28.9min\n",
      "[CV]  n_neighbors=5, weights=distance, score=0.9705049158473588, total=29.5min\n"
     ]
    },
    {
     "name": "stderr",
     "output_type": "stream",
     "text": [
      "[Parallel(n_jobs=-1)]: Done  30 out of  30 | elapsed: 589.7min finished\n"
     ]
    },
    {
     "data": {
      "text/plain": [
       "GridSearchCV(cv=5, error_score='raise',\n",
       "       estimator=KNeighborsClassifier(algorithm='auto', leaf_size=30, metric='minkowski',\n",
       "           metric_params=None, n_jobs=1, n_neighbors=5, p=2,\n",
       "           weights='uniform'),\n",
       "       fit_params=None, iid=True, n_jobs=-1,\n",
       "       param_grid=[{'n_neighbors': [1, 3, 5], 'weights': ['uniform', 'distance']}],\n",
       "       pre_dispatch='2*n_jobs', refit=True, return_train_score='warn',\n",
       "       scoring=None, verbose=3)"
      ]
     },
     "execution_count": 32,
     "metadata": {},
     "output_type": "execute_result"
    }
   ],
   "source": [
    "#Not quite 97%, but close!  The textbook suggests using GridSearchCV to find the best hyperparameters for the knn\n",
    "#classifier.  The parameters that make sense to vary are: n_neighbors (number of neighbors to use for kneighbors\n",
    "#queries) and weights (weight function used in prediction).  We will try three different n_neighbors parameters\n",
    "#and two different weights for a total of 3 x 2 = 6 combinations of hyperparameters.  We are also training each\n",
    "#model 5 times (since cv=5), so there will be 6 x 5 = 30 rounds of training.\n",
    "\n",
    "from sklearn.model_selection import GridSearchCV\n",
    "\n",
    "param_grid = [\n",
    "    {'n_neighbors':[1, 3, 5], 'weights':['uniform', 'distance']}\n",
    "]\n",
    "\n",
    "grid_search = GridSearchCV(knn_clf, param_grid, cv=5, n_jobs=-1, verbose=3)\n",
    "grid_search.fit(X_train, y_train)"
   ]
  },
  {
   "cell_type": "code",
   "execution_count": 33,
   "metadata": {},
   "outputs": [
    {
     "data": {
      "text/plain": [
       "KNeighborsClassifier(algorithm='auto', leaf_size=30, metric='minkowski',\n",
       "           metric_params=None, n_jobs=1, n_neighbors=3, p=2,\n",
       "           weights='distance')"
      ]
     },
     "execution_count": 33,
     "metadata": {},
     "output_type": "execute_result"
    }
   ],
   "source": [
    "#Alright, note to self: Be careful with the choices for param_grid!  This model took almost 10 hours to run!\n",
    "#Let's look at the best estimator:\n",
    "\n",
    "grid_search.best_estimator_"
   ]
  },
  {
   "cell_type": "code",
   "execution_count": 34,
   "metadata": {},
   "outputs": [
    {
     "data": {
      "text/plain": [
       "{'n_neighbors': 3, 'weights': 'distance'}"
      ]
     },
     "execution_count": 34,
     "metadata": {},
     "output_type": "execute_result"
    }
   ],
   "source": [
    "grid_search.best_params_"
   ]
  },
  {
   "cell_type": "code",
   "execution_count": 43,
   "metadata": {},
   "outputs": [
    {
     "data": {
      "text/plain": [
       "0.97255"
      ]
     },
     "execution_count": 43,
     "metadata": {},
     "output_type": "execute_result"
    }
   ],
   "source": [
    "grid_search.best_score_"
   ]
  },
  {
   "cell_type": "code",
   "execution_count": 36,
   "metadata": {},
   "outputs": [
    {
     "name": "stderr",
     "output_type": "stream",
     "text": [
      "/home/erena/anaconda3/lib/python3.6/site-packages/sklearn/utils/deprecation.py:122: FutureWarning: You are accessing a training score ('mean_train_score'), which will not be available by default any more in 0.21. If you need training scores, please set return_train_score=True\n",
      "  warnings.warn(*warn_args, **warn_kwargs)\n",
      "/home/erena/anaconda3/lib/python3.6/site-packages/sklearn/utils/deprecation.py:122: FutureWarning: You are accessing a training score ('split0_train_score'), which will not be available by default any more in 0.21. If you need training scores, please set return_train_score=True\n",
      "  warnings.warn(*warn_args, **warn_kwargs)\n",
      "/home/erena/anaconda3/lib/python3.6/site-packages/sklearn/utils/deprecation.py:122: FutureWarning: You are accessing a training score ('split1_train_score'), which will not be available by default any more in 0.21. If you need training scores, please set return_train_score=True\n",
      "  warnings.warn(*warn_args, **warn_kwargs)\n",
      "/home/erena/anaconda3/lib/python3.6/site-packages/sklearn/utils/deprecation.py:122: FutureWarning: You are accessing a training score ('split2_train_score'), which will not be available by default any more in 0.21. If you need training scores, please set return_train_score=True\n",
      "  warnings.warn(*warn_args, **warn_kwargs)\n",
      "/home/erena/anaconda3/lib/python3.6/site-packages/sklearn/utils/deprecation.py:122: FutureWarning: You are accessing a training score ('split3_train_score'), which will not be available by default any more in 0.21. If you need training scores, please set return_train_score=True\n",
      "  warnings.warn(*warn_args, **warn_kwargs)\n",
      "/home/erena/anaconda3/lib/python3.6/site-packages/sklearn/utils/deprecation.py:122: FutureWarning: You are accessing a training score ('split4_train_score'), which will not be available by default any more in 0.21. If you need training scores, please set return_train_score=True\n",
      "  warnings.warn(*warn_args, **warn_kwargs)\n",
      "/home/erena/anaconda3/lib/python3.6/site-packages/sklearn/utils/deprecation.py:122: FutureWarning: You are accessing a training score ('std_train_score'), which will not be available by default any more in 0.21. If you need training scores, please set return_train_score=True\n",
      "  warnings.warn(*warn_args, **warn_kwargs)\n"
     ]
    },
    {
     "data": {
      "text/plain": [
       "{'mean_fit_time': array([102.39720564,  99.53854089,  98.12642813, 107.25129995,\n",
       "        105.76309147,  87.63297768]),\n",
       " 'mean_score_time': array([1960.94030132, 1970.97920628, 1992.4066679 , 2032.99388652,\n",
       "        2026.77737966, 1738.99051218]),\n",
       " 'mean_test_score': array([0.97145   , 0.97145   , 0.9713    , 0.97255   , 0.96991667,\n",
       "        0.97171667]),\n",
       " 'mean_train_score': array([1.        , 1.        , 0.985675  , 1.        , 0.98054998,\n",
       "        1.        ]),\n",
       " 'param_n_neighbors': masked_array(data=[1, 1, 3, 3, 5, 5],\n",
       "              mask=[False, False, False, False, False, False],\n",
       "        fill_value='?',\n",
       "             dtype=object),\n",
       " 'param_weights': masked_array(data=['uniform', 'distance', 'uniform', 'distance',\n",
       "                    'uniform', 'distance'],\n",
       "              mask=[False, False, False, False, False, False],\n",
       "        fill_value='?',\n",
       "             dtype=object),\n",
       " 'params': [{'n_neighbors': 1, 'weights': 'uniform'},\n",
       "  {'n_neighbors': 1, 'weights': 'distance'},\n",
       "  {'n_neighbors': 3, 'weights': 'uniform'},\n",
       "  {'n_neighbors': 3, 'weights': 'distance'},\n",
       "  {'n_neighbors': 5, 'weights': 'uniform'},\n",
       "  {'n_neighbors': 5, 'weights': 'distance'}],\n",
       " 'rank_test_score': array([3, 3, 5, 1, 6, 2], dtype=int32),\n",
       " 'split0_test_score': array([0.97151187, 0.97151187, 0.97001249, 0.97184506, 0.96917951,\n",
       "        0.97126197]),\n",
       " 'split0_train_score': array([1.        , 1.        , 0.98564434, 1.        , 0.9801646 ,\n",
       "        1.        ]),\n",
       " 'split1_test_score': array([0.97125479, 0.97125479, 0.97083819, 0.97183803, 0.96925512,\n",
       "        0.97050492]),\n",
       " 'split1_train_score': array([1.        , 1.        , 0.98583274, 1.        , 0.98045752,\n",
       "        1.        ]),\n",
       " 'split2_test_score': array([0.97216667, 0.97216667, 0.973     , 0.97433333, 0.97225   ,\n",
       "        0.974     ]),\n",
       " 'split2_train_score': array([1.        , 1.        , 0.98570833, 1.        , 0.9803125 ,\n",
       "        1.        ]),\n",
       " 'split3_test_score': array([0.97165958, 0.97165958, 0.97099275, 0.97207635, 0.96824206,\n",
       "        0.96982579]),\n",
       " 'split3_train_score': array([1.        , 1.        , 0.98591755, 1.        , 0.98064704,\n",
       "        1.        ]),\n",
       " 'split4_test_score': array([0.97065689, 0.97065689, 0.97165722, 0.97265755, 0.97065689,\n",
       "        0.972991  ]),\n",
       " 'split4_train_score': array([1.        , 1.        , 0.98527206, 1.        , 0.98116824,\n",
       "        1.        ]),\n",
       " 'std_fit_time': array([ 1.19735723,  2.95861744,  2.33295875,  4.76362922,  4.07097201,\n",
       "        10.74191911]),\n",
       " 'std_score_time': array([  3.34643808,  11.1734461 ,   0.92448267,  23.95451947,\n",
       "         11.49741458, 134.06153571]),\n",
       " 'std_test_score': array([0.00049564, 0.00049564, 0.00099836, 0.00094024, 0.00139837,\n",
       "        0.00155479]),\n",
       " 'std_train_score': array([0.        , 0.        , 0.00022277, 0.        , 0.00034789,\n",
       "        0.        ])}"
      ]
     },
     "execution_count": 36,
     "metadata": {},
     "output_type": "execute_result"
    }
   ],
   "source": [
    "gs_results = grid_search.cv_results_\n",
    "gs_results"
   ]
  },
  {
   "cell_type": "code",
   "execution_count": 41,
   "metadata": {},
   "outputs": [
    {
     "name": "stderr",
     "output_type": "stream",
     "text": [
      "/home/erena/anaconda3/lib/python3.6/site-packages/sklearn/utils/deprecation.py:122: FutureWarning: You are accessing a training score ('mean_train_score'), which will not be available by default any more in 0.21. If you need training scores, please set return_train_score=True\n",
      "  warnings.warn(*warn_args, **warn_kwargs)\n",
      "/home/erena/anaconda3/lib/python3.6/site-packages/sklearn/utils/deprecation.py:122: FutureWarning: You are accessing a training score ('split0_train_score'), which will not be available by default any more in 0.21. If you need training scores, please set return_train_score=True\n",
      "  warnings.warn(*warn_args, **warn_kwargs)\n",
      "/home/erena/anaconda3/lib/python3.6/site-packages/sklearn/utils/deprecation.py:122: FutureWarning: You are accessing a training score ('split1_train_score'), which will not be available by default any more in 0.21. If you need training scores, please set return_train_score=True\n",
      "  warnings.warn(*warn_args, **warn_kwargs)\n",
      "/home/erena/anaconda3/lib/python3.6/site-packages/sklearn/utils/deprecation.py:122: FutureWarning: You are accessing a training score ('split2_train_score'), which will not be available by default any more in 0.21. If you need training scores, please set return_train_score=True\n",
      "  warnings.warn(*warn_args, **warn_kwargs)\n",
      "/home/erena/anaconda3/lib/python3.6/site-packages/sklearn/utils/deprecation.py:122: FutureWarning: You are accessing a training score ('split3_train_score'), which will not be available by default any more in 0.21. If you need training scores, please set return_train_score=True\n",
      "  warnings.warn(*warn_args, **warn_kwargs)\n",
      "/home/erena/anaconda3/lib/python3.6/site-packages/sklearn/utils/deprecation.py:122: FutureWarning: You are accessing a training score ('split4_train_score'), which will not be available by default any more in 0.21. If you need training scores, please set return_train_score=True\n",
      "  warnings.warn(*warn_args, **warn_kwargs)\n",
      "/home/erena/anaconda3/lib/python3.6/site-packages/sklearn/utils/deprecation.py:122: FutureWarning: You are accessing a training score ('std_train_score'), which will not be available by default any more in 0.21. If you need training scores, please set return_train_score=True\n",
      "  warnings.warn(*warn_args, **warn_kwargs)\n"
     ]
    },
    {
     "data": {
      "text/html": [
       "<div>\n",
       "<style scoped>\n",
       "    .dataframe tbody tr th:only-of-type {\n",
       "        vertical-align: middle;\n",
       "    }\n",
       "\n",
       "    .dataframe tbody tr th {\n",
       "        vertical-align: top;\n",
       "    }\n",
       "\n",
       "    .dataframe thead th {\n",
       "        text-align: right;\n",
       "    }\n",
       "</style>\n",
       "<table border=\"1\" class=\"dataframe\">\n",
       "  <thead>\n",
       "    <tr style=\"text-align: right;\">\n",
       "      <th></th>\n",
       "      <th>0</th>\n",
       "      <th>1</th>\n",
       "      <th>2</th>\n",
       "      <th>3</th>\n",
       "      <th>4</th>\n",
       "      <th>5</th>\n",
       "    </tr>\n",
       "  </thead>\n",
       "  <tbody>\n",
       "    <tr>\n",
       "      <th>mean_fit_time</th>\n",
       "      <td>102.397</td>\n",
       "      <td>99.5385</td>\n",
       "      <td>98.1264</td>\n",
       "      <td>107.251</td>\n",
       "      <td>105.763</td>\n",
       "      <td>87.633</td>\n",
       "    </tr>\n",
       "    <tr>\n",
       "      <th>mean_score_time</th>\n",
       "      <td>1960.94</td>\n",
       "      <td>1970.98</td>\n",
       "      <td>1992.41</td>\n",
       "      <td>2032.99</td>\n",
       "      <td>2026.78</td>\n",
       "      <td>1738.99</td>\n",
       "    </tr>\n",
       "    <tr>\n",
       "      <th>mean_test_score</th>\n",
       "      <td>0.97145</td>\n",
       "      <td>0.97145</td>\n",
       "      <td>0.9713</td>\n",
       "      <td>0.97255</td>\n",
       "      <td>0.969917</td>\n",
       "      <td>0.971717</td>\n",
       "    </tr>\n",
       "    <tr>\n",
       "      <th>mean_train_score</th>\n",
       "      <td>1</td>\n",
       "      <td>1</td>\n",
       "      <td>0.985675</td>\n",
       "      <td>1</td>\n",
       "      <td>0.98055</td>\n",
       "      <td>1</td>\n",
       "    </tr>\n",
       "    <tr>\n",
       "      <th>param_n_neighbors</th>\n",
       "      <td>1</td>\n",
       "      <td>1</td>\n",
       "      <td>3</td>\n",
       "      <td>3</td>\n",
       "      <td>5</td>\n",
       "      <td>5</td>\n",
       "    </tr>\n",
       "    <tr>\n",
       "      <th>param_weights</th>\n",
       "      <td>uniform</td>\n",
       "      <td>distance</td>\n",
       "      <td>uniform</td>\n",
       "      <td>distance</td>\n",
       "      <td>uniform</td>\n",
       "      <td>distance</td>\n",
       "    </tr>\n",
       "    <tr>\n",
       "      <th>params</th>\n",
       "      <td>{'n_neighbors': 1, 'weights': 'uniform'}</td>\n",
       "      <td>{'n_neighbors': 1, 'weights': 'distance'}</td>\n",
       "      <td>{'n_neighbors': 3, 'weights': 'uniform'}</td>\n",
       "      <td>{'n_neighbors': 3, 'weights': 'distance'}</td>\n",
       "      <td>{'n_neighbors': 5, 'weights': 'uniform'}</td>\n",
       "      <td>{'n_neighbors': 5, 'weights': 'distance'}</td>\n",
       "    </tr>\n",
       "    <tr>\n",
       "      <th>rank_test_score</th>\n",
       "      <td>3</td>\n",
       "      <td>3</td>\n",
       "      <td>5</td>\n",
       "      <td>1</td>\n",
       "      <td>6</td>\n",
       "      <td>2</td>\n",
       "    </tr>\n",
       "    <tr>\n",
       "      <th>split0_test_score</th>\n",
       "      <td>0.971512</td>\n",
       "      <td>0.971512</td>\n",
       "      <td>0.970012</td>\n",
       "      <td>0.971845</td>\n",
       "      <td>0.96918</td>\n",
       "      <td>0.971262</td>\n",
       "    </tr>\n",
       "    <tr>\n",
       "      <th>split0_train_score</th>\n",
       "      <td>1</td>\n",
       "      <td>1</td>\n",
       "      <td>0.985644</td>\n",
       "      <td>1</td>\n",
       "      <td>0.980165</td>\n",
       "      <td>1</td>\n",
       "    </tr>\n",
       "    <tr>\n",
       "      <th>split1_test_score</th>\n",
       "      <td>0.971255</td>\n",
       "      <td>0.971255</td>\n",
       "      <td>0.970838</td>\n",
       "      <td>0.971838</td>\n",
       "      <td>0.969255</td>\n",
       "      <td>0.970505</td>\n",
       "    </tr>\n",
       "    <tr>\n",
       "      <th>split1_train_score</th>\n",
       "      <td>1</td>\n",
       "      <td>1</td>\n",
       "      <td>0.985833</td>\n",
       "      <td>1</td>\n",
       "      <td>0.980458</td>\n",
       "      <td>1</td>\n",
       "    </tr>\n",
       "    <tr>\n",
       "      <th>split2_test_score</th>\n",
       "      <td>0.972167</td>\n",
       "      <td>0.972167</td>\n",
       "      <td>0.973</td>\n",
       "      <td>0.974333</td>\n",
       "      <td>0.97225</td>\n",
       "      <td>0.974</td>\n",
       "    </tr>\n",
       "    <tr>\n",
       "      <th>split2_train_score</th>\n",
       "      <td>1</td>\n",
       "      <td>1</td>\n",
       "      <td>0.985708</td>\n",
       "      <td>1</td>\n",
       "      <td>0.980313</td>\n",
       "      <td>1</td>\n",
       "    </tr>\n",
       "    <tr>\n",
       "      <th>split3_test_score</th>\n",
       "      <td>0.97166</td>\n",
       "      <td>0.97166</td>\n",
       "      <td>0.970993</td>\n",
       "      <td>0.972076</td>\n",
       "      <td>0.968242</td>\n",
       "      <td>0.969826</td>\n",
       "    </tr>\n",
       "    <tr>\n",
       "      <th>split3_train_score</th>\n",
       "      <td>1</td>\n",
       "      <td>1</td>\n",
       "      <td>0.985918</td>\n",
       "      <td>1</td>\n",
       "      <td>0.980647</td>\n",
       "      <td>1</td>\n",
       "    </tr>\n",
       "    <tr>\n",
       "      <th>split4_test_score</th>\n",
       "      <td>0.970657</td>\n",
       "      <td>0.970657</td>\n",
       "      <td>0.971657</td>\n",
       "      <td>0.972658</td>\n",
       "      <td>0.970657</td>\n",
       "      <td>0.972991</td>\n",
       "    </tr>\n",
       "    <tr>\n",
       "      <th>split4_train_score</th>\n",
       "      <td>1</td>\n",
       "      <td>1</td>\n",
       "      <td>0.985272</td>\n",
       "      <td>1</td>\n",
       "      <td>0.981168</td>\n",
       "      <td>1</td>\n",
       "    </tr>\n",
       "    <tr>\n",
       "      <th>std_fit_time</th>\n",
       "      <td>1.19736</td>\n",
       "      <td>2.95862</td>\n",
       "      <td>2.33296</td>\n",
       "      <td>4.76363</td>\n",
       "      <td>4.07097</td>\n",
       "      <td>10.7419</td>\n",
       "    </tr>\n",
       "    <tr>\n",
       "      <th>std_score_time</th>\n",
       "      <td>3.34644</td>\n",
       "      <td>11.1734</td>\n",
       "      <td>0.924483</td>\n",
       "      <td>23.9545</td>\n",
       "      <td>11.4974</td>\n",
       "      <td>134.062</td>\n",
       "    </tr>\n",
       "    <tr>\n",
       "      <th>std_test_score</th>\n",
       "      <td>0.000495639</td>\n",
       "      <td>0.000495639</td>\n",
       "      <td>0.000998359</td>\n",
       "      <td>0.00094024</td>\n",
       "      <td>0.00139837</td>\n",
       "      <td>0.00155479</td>\n",
       "    </tr>\n",
       "    <tr>\n",
       "      <th>std_train_score</th>\n",
       "      <td>0</td>\n",
       "      <td>0</td>\n",
       "      <td>0.000222766</td>\n",
       "      <td>0</td>\n",
       "      <td>0.000347886</td>\n",
       "      <td>0</td>\n",
       "    </tr>\n",
       "  </tbody>\n",
       "</table>\n",
       "</div>"
      ],
      "text/plain": [
       "                                                           0  \\\n",
       "mean_fit_time                                        102.397   \n",
       "mean_score_time                                      1960.94   \n",
       "mean_test_score                                      0.97145   \n",
       "mean_train_score                                           1   \n",
       "param_n_neighbors                                          1   \n",
       "param_weights                                        uniform   \n",
       "params              {'n_neighbors': 1, 'weights': 'uniform'}   \n",
       "rank_test_score                                            3   \n",
       "split0_test_score                                   0.971512   \n",
       "split0_train_score                                         1   \n",
       "split1_test_score                                   0.971255   \n",
       "split1_train_score                                         1   \n",
       "split2_test_score                                   0.972167   \n",
       "split2_train_score                                         1   \n",
       "split3_test_score                                    0.97166   \n",
       "split3_train_score                                         1   \n",
       "split4_test_score                                   0.970657   \n",
       "split4_train_score                                         1   \n",
       "std_fit_time                                         1.19736   \n",
       "std_score_time                                       3.34644   \n",
       "std_test_score                                   0.000495639   \n",
       "std_train_score                                            0   \n",
       "\n",
       "                                                            1  \\\n",
       "mean_fit_time                                         99.5385   \n",
       "mean_score_time                                       1970.98   \n",
       "mean_test_score                                       0.97145   \n",
       "mean_train_score                                            1   \n",
       "param_n_neighbors                                           1   \n",
       "param_weights                                        distance   \n",
       "params              {'n_neighbors': 1, 'weights': 'distance'}   \n",
       "rank_test_score                                             3   \n",
       "split0_test_score                                    0.971512   \n",
       "split0_train_score                                          1   \n",
       "split1_test_score                                    0.971255   \n",
       "split1_train_score                                          1   \n",
       "split2_test_score                                    0.972167   \n",
       "split2_train_score                                          1   \n",
       "split3_test_score                                     0.97166   \n",
       "split3_train_score                                          1   \n",
       "split4_test_score                                    0.970657   \n",
       "split4_train_score                                          1   \n",
       "std_fit_time                                          2.95862   \n",
       "std_score_time                                        11.1734   \n",
       "std_test_score                                    0.000495639   \n",
       "std_train_score                                             0   \n",
       "\n",
       "                                                           2  \\\n",
       "mean_fit_time                                        98.1264   \n",
       "mean_score_time                                      1992.41   \n",
       "mean_test_score                                       0.9713   \n",
       "mean_train_score                                    0.985675   \n",
       "param_n_neighbors                                          3   \n",
       "param_weights                                        uniform   \n",
       "params              {'n_neighbors': 3, 'weights': 'uniform'}   \n",
       "rank_test_score                                            5   \n",
       "split0_test_score                                   0.970012   \n",
       "split0_train_score                                  0.985644   \n",
       "split1_test_score                                   0.970838   \n",
       "split1_train_score                                  0.985833   \n",
       "split2_test_score                                      0.973   \n",
       "split2_train_score                                  0.985708   \n",
       "split3_test_score                                   0.970993   \n",
       "split3_train_score                                  0.985918   \n",
       "split4_test_score                                   0.971657   \n",
       "split4_train_score                                  0.985272   \n",
       "std_fit_time                                         2.33296   \n",
       "std_score_time                                      0.924483   \n",
       "std_test_score                                   0.000998359   \n",
       "std_train_score                                  0.000222766   \n",
       "\n",
       "                                                            3  \\\n",
       "mean_fit_time                                         107.251   \n",
       "mean_score_time                                       2032.99   \n",
       "mean_test_score                                       0.97255   \n",
       "mean_train_score                                            1   \n",
       "param_n_neighbors                                           3   \n",
       "param_weights                                        distance   \n",
       "params              {'n_neighbors': 3, 'weights': 'distance'}   \n",
       "rank_test_score                                             1   \n",
       "split0_test_score                                    0.971845   \n",
       "split0_train_score                                          1   \n",
       "split1_test_score                                    0.971838   \n",
       "split1_train_score                                          1   \n",
       "split2_test_score                                    0.974333   \n",
       "split2_train_score                                          1   \n",
       "split3_test_score                                    0.972076   \n",
       "split3_train_score                                          1   \n",
       "split4_test_score                                    0.972658   \n",
       "split4_train_score                                          1   \n",
       "std_fit_time                                          4.76363   \n",
       "std_score_time                                        23.9545   \n",
       "std_test_score                                     0.00094024   \n",
       "std_train_score                                             0   \n",
       "\n",
       "                                                           4  \\\n",
       "mean_fit_time                                        105.763   \n",
       "mean_score_time                                      2026.78   \n",
       "mean_test_score                                     0.969917   \n",
       "mean_train_score                                     0.98055   \n",
       "param_n_neighbors                                          5   \n",
       "param_weights                                        uniform   \n",
       "params              {'n_neighbors': 5, 'weights': 'uniform'}   \n",
       "rank_test_score                                            6   \n",
       "split0_test_score                                    0.96918   \n",
       "split0_train_score                                  0.980165   \n",
       "split1_test_score                                   0.969255   \n",
       "split1_train_score                                  0.980458   \n",
       "split2_test_score                                    0.97225   \n",
       "split2_train_score                                  0.980313   \n",
       "split3_test_score                                   0.968242   \n",
       "split3_train_score                                  0.980647   \n",
       "split4_test_score                                   0.970657   \n",
       "split4_train_score                                  0.981168   \n",
       "std_fit_time                                         4.07097   \n",
       "std_score_time                                       11.4974   \n",
       "std_test_score                                    0.00139837   \n",
       "std_train_score                                  0.000347886   \n",
       "\n",
       "                                                            5  \n",
       "mean_fit_time                                          87.633  \n",
       "mean_score_time                                       1738.99  \n",
       "mean_test_score                                      0.971717  \n",
       "mean_train_score                                            1  \n",
       "param_n_neighbors                                           5  \n",
       "param_weights                                        distance  \n",
       "params              {'n_neighbors': 5, 'weights': 'distance'}  \n",
       "rank_test_score                                             2  \n",
       "split0_test_score                                    0.971262  \n",
       "split0_train_score                                          1  \n",
       "split1_test_score                                    0.970505  \n",
       "split1_train_score                                          1  \n",
       "split2_test_score                                       0.974  \n",
       "split2_train_score                                          1  \n",
       "split3_test_score                                    0.969826  \n",
       "split3_train_score                                          1  \n",
       "split4_test_score                                    0.972991  \n",
       "split4_train_score                                          1  \n",
       "std_fit_time                                          10.7419  \n",
       "std_score_time                                        134.062  \n",
       "std_test_score                                     0.00155479  \n",
       "std_train_score                                             0  "
      ]
     },
     "execution_count": 41,
     "metadata": {},
     "output_type": "execute_result"
    }
   ],
   "source": [
    "#Let's try seeing this in a Pandas dataframe\n",
    "\n",
    "import pandas as pd\n",
    "results = pd.DataFrame(gs_results)\n",
    "results_transposed = results.T             #transpose dataframe so info is easier to see\n",
    "results_transposed"
   ]
  },
  {
   "cell_type": "code",
   "execution_count": 44,
   "metadata": {},
   "outputs": [],
   "source": [
    "#Yay!  It looks like we managed our goal of getting >97% accuracy with this model.  The best parameters are \n",
    "#n_neighbors = 3 and weight = 'distance'.  The score was 97.255% ."
   ]
  },
  {
   "cell_type": "code",
   "execution_count": 45,
   "metadata": {},
   "outputs": [
    {
     "data": {
      "text/plain": [
       "0.9717"
      ]
     },
     "execution_count": 45,
     "metadata": {},
     "output_type": "execute_result"
    }
   ],
   "source": [
    "#Now let's predict with the testing data set and take another look at the accuracy score\n",
    "\n",
    "y_pred = grid_search.predict(X_test)\n",
    "accuracy_score(y_test, y_pred)"
   ]
  },
  {
   "cell_type": "code",
   "execution_count": 46,
   "metadata": {},
   "outputs": [],
   "source": [
    "#Not as good as the training accuracy, but still better than 97%!  This is the end of exercise 1."
   ]
  },
  {
   "cell_type": "code",
   "execution_count": null,
   "metadata": {},
   "outputs": [],
   "source": []
  }
 ],
 "metadata": {
  "kernelspec": {
   "display_name": "Python 3",
   "language": "python",
   "name": "python3"
  },
  "language_info": {
   "codemirror_mode": {
    "name": "ipython",
    "version": 3
   },
   "file_extension": ".py",
   "mimetype": "text/x-python",
   "name": "python",
   "nbconvert_exporter": "python",
   "pygments_lexer": "ipython3",
   "version": "3.6.4"
  }
 },
 "nbformat": 4,
 "nbformat_minor": 2
}
